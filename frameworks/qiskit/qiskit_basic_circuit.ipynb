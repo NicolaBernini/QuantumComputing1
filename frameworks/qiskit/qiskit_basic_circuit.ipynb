{
  "nbformat": 4,
  "nbformat_minor": 0,
  "metadata": {
    "colab": {
      "name": "Shared_Test_QuantumComputing1.ipynb",
      "version": "0.3.2",
      "provenance": []
    },
    "kernelspec": {
      "name": "python3",
      "display_name": "Python 3"
    }
  },
  "cells": [
    {
      "metadata": {
        "id": "FfJwVZz_yGJ1",
        "colab_type": "text"
      },
      "cell_type": "markdown",
      "source": [
        "\n",
        "# Overview \n",
        "\n",
        "Testing Qiskit \n"
      ]
    },
    {
      "metadata": {
        "id": "kq1Yl7pNyCYF",
        "colab_type": "code",
        "outputId": "4fa5e03f-68e4-4441-db0e-2b61f108f5fa",
        "colab": {
          "base_uri": "https://localhost:8080/",
          "height": 490
        }
      },
      "cell_type": "code",
      "source": [
        "!pip install qiskit"
      ],
      "execution_count": 1,
      "outputs": [
        {
          "output_type": "stream",
          "text": [
            "Requirement already satisfied: qiskit in /usr/local/lib/python3.6/dist-packages (0.7.2)\n",
            "Requirement already satisfied: qiskit-terra<0.8,>=0.7 in /usr/local/lib/python3.6/dist-packages (from qiskit) (0.7.0)\n",
            "Requirement already satisfied: qiskit-aer<0.2,>=0.1 in /usr/local/lib/python3.6/dist-packages (from qiskit) (0.1.1)\n",
            "Requirement already satisfied: ply>=3.10 in /usr/local/lib/python3.6/dist-packages (from qiskit-terra<0.8,>=0.7->qiskit) (3.11)\n",
            "Requirement already satisfied: numpy>=1.13 in /usr/local/lib/python3.6/dist-packages (from qiskit-terra<0.8,>=0.7->qiskit) (1.14.6)\n",
            "Requirement already satisfied: psutil>=5 in /usr/local/lib/python3.6/dist-packages (from qiskit-terra<0.8,>=0.7->qiskit) (5.4.8)\n",
            "Requirement already satisfied: scipy!=0.19.1,>=0.19 in /usr/local/lib/python3.6/dist-packages (from qiskit-terra<0.8,>=0.7->qiskit) (1.1.0)\n",
            "Requirement already satisfied: sympy>=1.3 in /usr/local/lib/python3.6/dist-packages (from qiskit-terra<0.8,>=0.7->qiskit) (1.3)\n",
            "Requirement already satisfied: pillow>=4.2.1 in /usr/local/lib/python3.6/dist-packages (from qiskit-terra<0.8,>=0.7->qiskit) (5.4.1)\n",
            "Requirement already satisfied: requests-ntlm>=1.1.0 in /usr/local/lib/python3.6/dist-packages (from qiskit-terra<0.8,>=0.7->qiskit) (1.1.0)\n",
            "Requirement already satisfied: networkx>=2.2 in /usr/local/lib/python3.6/dist-packages (from qiskit-terra<0.8,>=0.7->qiskit) (2.2)\n",
            "Requirement already satisfied: marshmallow-polyfield<4,>=3.2 in /usr/local/lib/python3.6/dist-packages (from qiskit-terra<0.8,>=0.7->qiskit) (3.2)\n",
            "Requirement already satisfied: jsonschema<2.7,>=2.6 in /usr/local/lib/python3.6/dist-packages (from qiskit-terra<0.8,>=0.7->qiskit) (2.6.0)\n",
            "Requirement already satisfied: requests>=2.19 in /usr/local/lib/python3.6/dist-packages (from qiskit-terra<0.8,>=0.7->qiskit) (2.21.0)\n",
            "Requirement already satisfied: marshmallow<3,>=2.16.3 in /usr/local/lib/python3.6/dist-packages (from qiskit-terra<0.8,>=0.7->qiskit) (2.18.0)\n",
            "Requirement already satisfied: mpmath>=0.19 in /usr/local/lib/python3.6/dist-packages (from sympy>=1.3->qiskit-terra<0.8,>=0.7->qiskit) (1.1.0)\n",
            "Requirement already satisfied: ntlm-auth>=1.0.2 in /usr/local/lib/python3.6/dist-packages (from requests-ntlm>=1.1.0->qiskit-terra<0.8,>=0.7->qiskit) (1.2.0)\n",
            "Requirement already satisfied: cryptography>=1.3 in /usr/local/lib/python3.6/dist-packages (from requests-ntlm>=1.1.0->qiskit-terra<0.8,>=0.7->qiskit) (2.5)\n",
            "Requirement already satisfied: decorator>=4.3.0 in /usr/local/lib/python3.6/dist-packages (from networkx>=2.2->qiskit-terra<0.8,>=0.7->qiskit) (4.3.2)\n",
            "Requirement already satisfied: idna<2.9,>=2.5 in /usr/local/lib/python3.6/dist-packages (from requests>=2.19->qiskit-terra<0.8,>=0.7->qiskit) (2.6)\n",
            "Requirement already satisfied: chardet<3.1.0,>=3.0.2 in /usr/local/lib/python3.6/dist-packages (from requests>=2.19->qiskit-terra<0.8,>=0.7->qiskit) (3.0.4)\n",
            "Requirement already satisfied: certifi>=2017.4.17 in /usr/local/lib/python3.6/dist-packages (from requests>=2.19->qiskit-terra<0.8,>=0.7->qiskit) (2018.11.29)\n",
            "Requirement already satisfied: urllib3<1.25,>=1.21.1 in /usr/local/lib/python3.6/dist-packages (from requests>=2.19->qiskit-terra<0.8,>=0.7->qiskit) (1.22)\n",
            "Requirement already satisfied: six>=1.4.1 in /usr/local/lib/python3.6/dist-packages (from cryptography>=1.3->requests-ntlm>=1.1.0->qiskit-terra<0.8,>=0.7->qiskit) (1.11.0)\n",
            "Requirement already satisfied: asn1crypto>=0.21.0 in /usr/local/lib/python3.6/dist-packages (from cryptography>=1.3->requests-ntlm>=1.1.0->qiskit-terra<0.8,>=0.7->qiskit) (0.24.0)\n",
            "Requirement already satisfied: cffi!=1.11.3,>=1.8 in /usr/local/lib/python3.6/dist-packages (from cryptography>=1.3->requests-ntlm>=1.1.0->qiskit-terra<0.8,>=0.7->qiskit) (1.11.5)\n",
            "Requirement already satisfied: pycparser in /usr/local/lib/python3.6/dist-packages (from cffi!=1.11.3,>=1.8->cryptography>=1.3->requests-ntlm>=1.1.0->qiskit-terra<0.8,>=0.7->qiskit) (2.19)\n"
          ],
          "name": "stdout"
        }
      ]
    },
    {
      "metadata": {
        "id": "J2ul-_bGx3Yw",
        "colab_type": "code",
        "outputId": "573b2086-7807-45c2-8e6a-7e463bd507b9",
        "colab": {
          "base_uri": "https://localhost:8080/",
          "height": 70
        }
      },
      "cell_type": "code",
      "source": [
        "import numpy as np\n",
        "from qiskit import QuantumCircuit, ClassicalRegister, QuantumRegister\n",
        "from qiskit import execute\n"
      ],
      "execution_count": 2,
      "outputs": [
        {
          "output_type": "stream",
          "text": [
            "/usr/local/lib/python3.6/dist-packages/marshmallow/schema.py:364: ChangedInMarshmallow3Warning: strict=False is not recommended. In marshmallow 3.0, schemas will always be strict. See https://marshmallow.readthedocs.io/en/latest/upgrading.html#schemas-are-always-strict\n",
            "  ChangedInMarshmallow3Warning\n"
          ],
          "name": "stderr"
        }
      ]
    },
    {
      "metadata": {
        "id": "yTmu4eEW0dv4",
        "colab_type": "text"
      },
      "cell_type": "markdown",
      "source": [
        "\n",
        "# Quantum Circuit based Programming \n",
        "\n",
        "- The idea is to write a program thinking in terms of **State** and **Manipulation of the State**\n",
        "- The state is stored in **Quantum Registers** and the manipulation of the state is performed by **Quantum Circuits** \n",
        "\n"
      ]
    },
    {
      "metadata": {
        "id": "vUzBOLM-x59B",
        "colab_type": "code",
        "colab": {}
      },
      "cell_type": "code",
      "source": [
        "# According to API defined at https://qiskit.org/documentation/_autodoc/qiskit.circuit.quantumregister.html\n",
        "# It defines a Quantum Register of size 3 and name 'q' \n",
        "r = QuantumRegister(3, 'q')\n",
        "\n",
        "# Create a Quantum Circuit to manipulate the register \n",
        "c = QuantumCircuit(r)"
      ],
      "execution_count": 0,
      "outputs": []
    },
    {
      "metadata": {
        "id": "39mpS9Y6ycqB",
        "colab_type": "code",
        "outputId": "1c098b9d-36a1-4925-89cd-7a5f506a588a",
        "colab": {
          "base_uri": "https://localhost:8080/",
          "height": 34
        }
      },
      "cell_type": "code",
      "source": [
        "r"
      ],
      "execution_count": 4,
      "outputs": [
        {
          "output_type": "execute_result",
          "data": {
            "text/plain": [
              "QuantumRegister(3, 'q')"
            ]
          },
          "metadata": {
            "tags": []
          },
          "execution_count": 4
        }
      ]
    },
    {
      "metadata": {
        "id": "PMaA6H5tyfAQ",
        "colab_type": "code",
        "outputId": "d429dcdb-b0ad-43f7-aa2f-7f2a6ce35ddb",
        "colab": {
          "base_uri": "https://localhost:8080/",
          "height": 34
        }
      },
      "cell_type": "code",
      "source": [
        "# Apply Hadamard Gate to Qubit ID=0\n",
        "c.h(r[0])\n",
        "# Apply CNOT Gate \n",
        "# https://en.wikipedia.org/wiki/Quantum_logic_gate#Controlled_(cX_cY_cZ)_gates\n",
        "c.cx(r[0], r[1])\n",
        "\n",
        "# Let's put the 3 qubist n GHZ State \n",
        "# https://en.wikipedia.org/wiki/Greenberger%E2%80%93Horne%E2%80%93Zeilinger_state\n",
        "c.cx(r[0], r[2])"
      ],
      "execution_count": 5,
      "outputs": [
        {
          "output_type": "execute_result",
          "data": {
            "text/plain": [
              "<qiskit.extensions.standard.cx.CnotGate at 0x7f2d36350860>"
            ]
          },
          "metadata": {
            "tags": []
          },
          "execution_count": 5
        }
      ]
    },
    {
      "metadata": {
        "id": "tz52Jjx_yvpY",
        "colab_type": "code",
        "outputId": "e9986b8c-d262-434d-86b1-5ea863ff179d",
        "colab": {
          "base_uri": "https://localhost:8080/",
          "height": 134
        }
      },
      "cell_type": "code",
      "source": [
        "c.draw()"
      ],
      "execution_count": 6,
      "outputs": [
        {
          "output_type": "execute_result",
          "data": {
            "text/html": [
              "<pre style=\"word-wrap: normal;white-space: pre;line-height: 15px;\">        ┌───┐          \n",
              "q_0: |0>┤ H ├──■────■──\n",
              "        └───┘┌─┴─┐  │  \n",
              "q_1: |0>─────┤ X ├──┼──\n",
              "             └───┘┌─┴─┐\n",
              "q_2: |0>──────────┤ X ├\n",
              "                  └───┘</pre>"
            ],
            "text/plain": [
              "<qiskit.tools.visualization._text.TextDrawing at 0x7f2d3633f7f0>"
            ]
          },
          "metadata": {
            "tags": []
          },
          "execution_count": 6
        }
      ]
    },
    {
      "metadata": {
        "id": "Drz7dV97zEIB",
        "colab_type": "code",
        "colab": {}
      },
      "cell_type": "code",
      "source": [
        ""
      ],
      "execution_count": 0,
      "outputs": []
    }
  ]
}
