{
  "nbformat": 4,
  "nbformat_minor": 0,
  "metadata": {
    "colab": {
      "name": "QuantumComputing_News_20181215_1.ipynb",
      "version": "0.3.2",
      "provenance": []
    },
    "kernelspec": {
      "name": "python3",
      "display_name": "Python 3"
    }
  },
  "cells": [
    {
      "metadata": {
        "id": "AiBtNUvpj8yS",
        "colab_type": "text"
      },
      "cell_type": "markdown",
      "source": [
        "\n",
        "# Quantum Computing Platform News (Dec 2018)\n",
        "\n",
        "![Quantum Computing Platform News1](https://pbs.twimg.com/media/DuFA-fxUUAEPNZm.jpg:large)\n",
        "- [Source](https://twitter.com/ixfoduap/status/1072209634268594176)\n",
        "\n",
        "\n"
      ]
    },
    {
      "metadata": {
        "id": "CfQ7iqzxkroA",
        "colab_type": "text"
      },
      "cell_type": "markdown",
      "source": [
        "\n",
        "# The 3 Infrastructure Front Runners \n",
        "\n",
        "Company | Product | Tech\n",
        "--- | --- | ---\n",
        "IBM | [IBM Q](https://www.research.ibm.com/ibm-q/) | Universal Quantum Computing\n",
        "D-Wave | [D Wave 2000Q](https://www.dwavesys.com/d-wave-two-system) | Adiabatic Quantum Computing\n",
        "Rigetti | [Rigetti QPU](https://www.rigetti.com/qpu) | Universal Quantum Computing\n",
        "\n",
        "\n"
      ]
    },
    {
      "metadata": {
        "id": "PJpeXBX-mf2p",
        "colab_type": "text"
      },
      "cell_type": "markdown",
      "source": [
        "\n",
        "New updates soon \n"
      ]
    },
    {
      "metadata": {
        "id": "eEuU4bYXj3lj",
        "colab_type": "code",
        "colab": {}
      },
      "cell_type": "code",
      "source": [
        ""
      ],
      "execution_count": 0,
      "outputs": []
    }
  ]
}
